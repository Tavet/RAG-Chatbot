{
 "cells": [
  {
   "cell_type": "markdown",
   "id": "f3618be8-6806-43a8-a6f7-e7f563739d1f",
   "metadata": {},
   "source": [
    "# Events Data Demo"
   ]
  },
  {
   "cell_type": "code",
   "execution_count": 376,
   "id": "b4e9888d-f879-41ed-a325-843b82e0fdd2",
   "metadata": {},
   "outputs": [],
   "source": [
    "import os\n",
    "from dotenv import load_dotenv\n",
    "\n",
    "load_dotenv()\n",
    "\n",
    "OPENAI_API_KEY = os.environ['OPENAI_API_KEY']"
   ]
  },
  {
   "cell_type": "markdown",
   "id": "369dc1b7-08ff-4d9f-a022-5b935a56f17d",
   "metadata": {},
   "source": [
    "## Setting up the GPT-4o model"
   ]
  },
  {
   "cell_type": "code",
   "execution_count": 379,
   "id": "b98f975f-a436-446a-a45d-61efef2beeb1",
   "metadata": {},
   "outputs": [],
   "source": [
    "from langchain_openai.chat_models import ChatOpenAI"
   ]
  },
  {
   "cell_type": "code",
   "execution_count": 381,
   "id": "a6623c82-76b5-4558-9190-1b2d0c1be54a",
   "metadata": {},
   "outputs": [],
   "source": [
    "model = ChatOpenAI(openai_api_key=OPENAI_API_KEY, model=\"gpt-4o\")"
   ]
  },
  {
   "cell_type": "markdown",
   "id": "87d09806-dc2a-4820-affb-8e870c005640",
   "metadata": {},
   "source": [
    "## Prompt Template\n",
    "Prompt templates simplify the creation and reuse of prompts by offering predefined structures and formats."
   ]
  },
  {
   "cell_type": "code",
   "execution_count": 383,
   "id": "a5f8d85b-d147-4fe3-b9d3-ff75465eb0d9",
   "metadata": {},
   "outputs": [],
   "source": [
    "from langchain.prompts import ChatPromptTemplate\n",
    "from langchain_core.output_parsers import StrOutputParser\n",
    "\n",
    "template = \"\"\"\n",
    "Answer the question based on the context below. \n",
    "If you don't know the answer reply \"I am not sure about that\".\n",
    "\n",
    "Context: {context}\n",
    "\n",
    "Question: {question}\n",
    "\"\"\"\n",
    "\n",
    "parser = StrOutputParser()\n",
    "prompt = ChatPromptTemplate.from_template(template)"
   ]
  },
  {
   "cell_type": "markdown",
   "id": "ff6593f3-686d-437c-8b89-c3cb383bc55f",
   "metadata": {},
   "source": [
    "### Prompt Template example"
   ]
  },
  {
   "cell_type": "code",
   "execution_count": 386,
   "id": "02418b52-375f-4b32-9f52-0b84fdbea1bc",
   "metadata": {},
   "outputs": [],
   "source": [
    "chain = prompt | model | parser"
   ]
  },
  {
   "cell_type": "code",
   "execution_count": 390,
   "id": "85c8a640-7e27-4d60-a2a0-ff2eb0adcc55",
   "metadata": {},
   "outputs": [
    {
     "data": {
      "text/plain": [
       "'Event #40 was held in Ciudad de México.'"
      ]
     },
     "execution_count": 390,
     "metadata": {},
     "output_type": "execute_result"
    }
   ],
   "source": [
    "chain.invoke({\n",
    "    \"context\": \"Event #40 has taken place in Ciudad de México, and event #12 was held in Medellín\",\n",
    "    \"question\": \"Where was hold the event 40?\"\n",
    "})"
   ]
  },
  {
   "cell_type": "markdown",
   "id": "10ef5872-857c-4e21-9544-0cb2718eba5d",
   "metadata": {},
   "source": [
    "### Adding translation to the prompt template\n",
    "This merges the outcome from the first chain with the translation prompt."
   ]
  },
  {
   "cell_type": "code",
   "execution_count": 392,
   "id": "15e57204-581f-47f3-99eb-70dd8e7a3188",
   "metadata": {},
   "outputs": [],
   "source": [
    "translation_prompt = ChatPromptTemplate.from_template(\"Translate {answer} to {language}\")"
   ]
  },
  {
   "cell_type": "code",
   "execution_count": 394,
   "id": "53c1674c-1f04-4492-befb-1e10287c119d",
   "metadata": {},
   "outputs": [],
   "source": [
    "from operator import itemgetter\n",
    "\n",
    "translation_chain = ({\n",
    "    \"answer\": chain,\n",
    "    \"language\": itemgetter(\"language\")\n",
    "} | translation_prompt | model | parser)"
   ]
  },
  {
   "cell_type": "code",
   "execution_count": 398,
   "id": "98e137dd-3785-4d1b-a38d-f6635b12803a",
   "metadata": {},
   "outputs": [
    {
     "data": {
      "text/plain": [
       "'El Evento #12 se llevó a cabo en Medellín.'"
      ]
     },
     "execution_count": 398,
     "metadata": {},
     "output_type": "execute_result"
    }
   ],
   "source": [
    "translation_chain.invoke({\n",
    "    \"context\": \"Event #40 has taken place in Ciudad de México, and event #12 was held in Medellín\",\n",
    "    \"question\": \"Where was hold the event 12?\",\n",
    "    \"language\": \"Spanish\"\n",
    "})"
   ]
  },
  {
   "cell_type": "markdown",
   "id": "5480fdb1-4980-4564-a27b-8148f101b01f",
   "metadata": {},
   "source": [
    "# Using a Vector Store\n",
    "We require a methodical approach to efficiently store data fragments along with their embeddings and conduct similarity searches at a large scale. This necessitates the utilization of a vector store, which is essentially a specialized database designed for rapid similarity searches through its collection of embeddings."
   ]
  },
  {
   "cell_type": "code",
   "execution_count": 400,
   "id": "f1d86c45-20f4-469e-9dd5-90406aa44638",
   "metadata": {},
   "outputs": [],
   "source": [
    "from langchain_community.vectorstores import DocArrayInMemorySearch\n",
    "from langchain_openai.embeddings import OpenAIEmbeddings\n",
    "\n",
    "vectorstore = DocArrayInMemorySearch.from_texts(\n",
    "    [\n",
    "        \"Event 1 will take place in São Paulo\",\n",
    "        \"São Paulo held 5 events\",\n",
    "        \"There are 12 events in 4 different cities across Brasil\",\n",
    "        \"Harley-Davidson is the organizer of events in São Paulo\",\n",
    "        \"Other events' organizers are Harley-Davidson dealers\",\n",
    "        \"There is one dealer event in Guadalajara\"\n",
    "    ],\n",
    "    embedding=OpenAIEmbeddings()\n",
    ")"
   ]
  },
  {
   "cell_type": "code",
   "execution_count": 402,
   "id": "9ad38778-9792-44e6-a39a-dda31957e948",
   "metadata": {},
   "outputs": [
    {
     "data": {
      "text/plain": [
       "[(Document(page_content='Event 1 will take place in São Paulo'),\n",
       "  0.9342975238661645),\n",
       " (Document(page_content='São Paulo held 5 events'), 0.8963294324270268),\n",
       " (Document(page_content='Harley-Davidson is the organizer of events in São Paulo'),\n",
       "  0.8764587219838957)]"
      ]
     },
     "execution_count": 402,
     "metadata": {},
     "output_type": "execute_result"
    }
   ],
   "source": [
    "vectorstore.similarity_search_with_score(query=\"What event will be held in São Paulo?\", k=3)"
   ]
  },
  {
   "cell_type": "code",
   "execution_count": 404,
   "id": "be311973-5628-4f27-869a-b2fc798ed720",
   "metadata": {},
   "outputs": [
    {
     "data": {
      "text/plain": [
       "[(Document(page_content='Harley-Davidson is the organizer of events in São Paulo'),\n",
       "  0.8924789705758178),\n",
       " (Document(page_content=\"Other events' organizers are Harley-Davidson dealers\"),\n",
       "  0.8730111457629761),\n",
       " (Document(page_content='There is one dealer event in Guadalajara'),\n",
       "  0.8262310296288617),\n",
       " (Document(page_content='There are 12 events in 4 different cities across Brasil'),\n",
       "  0.7908518314387816),\n",
       " (Document(page_content='Event 1 will take place in São Paulo'),\n",
       "  0.7870943457787175),\n",
       " (Document(page_content='São Paulo held 5 events'), 0.769982960666691)]"
      ]
     },
     "execution_count": 404,
     "metadata": {},
     "output_type": "execute_result"
    }
   ],
   "source": [
    "vectorstore.similarity_search_with_score(query=\"Does Harley-Davidson have events in Colombia?\", k=10)"
   ]
  },
  {
   "cell_type": "markdown",
   "id": "12b3773a-2b3b-4ce2-8d11-5c706954e196",
   "metadata": {},
   "source": [
    "## Connecting the vector store to the chain\n",
    "The vector store can be utilized to identify the most pertinent segments from the data for processing by the model."
   ]
  },
  {
   "cell_type": "code",
   "execution_count": 406,
   "id": "d6530101-895d-457e-bbf1-3be0308132e0",
   "metadata": {},
   "outputs": [],
   "source": [
    "from langchain_core.runnables import RunnableParallel, RunnablePassthrough\n",
    "\n",
    "retriever = vectorstore.as_retriever()\n",
    "setup = RunnableParallel(context=retriever, question=RunnablePassthrough())"
   ]
  },
  {
   "cell_type": "code",
   "execution_count": 408,
   "id": "e839237f-db0a-4348-9f7c-0a6fbbdc74b7",
   "metadata": {},
   "outputs": [],
   "source": [
    "chain = setup | prompt | model | parser"
   ]
  },
  {
   "cell_type": "code",
   "execution_count": 410,
   "id": "cdce941e-9848-43c2-a484-1d301ce50694",
   "metadata": {},
   "outputs": [
    {
     "data": {
      "text/plain": [
       "'I am not sure about that.'"
      ]
     },
     "execution_count": 410,
     "metadata": {},
     "output_type": "execute_result"
    }
   ],
   "source": [
    "chain.invoke(\"Does Harley-Davidson have events in Colombia?\")"
   ]
  },
  {
   "cell_type": "code",
   "execution_count": 412,
   "id": "c2fccdc3-75cd-413f-9b54-1b885a376b77",
   "metadata": {},
   "outputs": [
    {
     "data": {
      "text/plain": [
       "'Yes, there is one dealer event in Guadalajara, which is in México.'"
      ]
     },
     "execution_count": 412,
     "metadata": {},
     "output_type": "execute_result"
    }
   ],
   "source": [
    "chain.invoke(\"Are there events in México?\")"
   ]
  },
  {
   "cell_type": "code",
   "execution_count": 416,
   "id": "173fcb58-e921-47d1-8fc3-21f62f8c3097",
   "metadata": {},
   "outputs": [
    {
     "data": {
      "text/plain": [
       "'I am not sure about that.'"
      ]
     },
     "execution_count": 416,
     "metadata": {},
     "output_type": "execute_result"
    }
   ],
   "source": [
    "chain.invoke(\"Hay eventos en Ciudad de México?\")"
   ]
  },
  {
   "cell_type": "code",
   "execution_count": null,
   "id": "857378c2-7ebf-41bb-9cff-94e6e000d3a1",
   "metadata": {},
   "outputs": [],
   "source": []
  }
 ],
 "metadata": {
  "kernelspec": {
   "display_name": "GenAI",
   "language": "python",
   "name": "genai"
  },
  "language_info": {
   "codemirror_mode": {
    "name": "ipython",
    "version": 3
   },
   "file_extension": ".py",
   "mimetype": "text/x-python",
   "name": "python",
   "nbconvert_exporter": "python",
   "pygments_lexer": "ipython3",
   "version": "3.9.17"
  }
 },
 "nbformat": 4,
 "nbformat_minor": 5
}
