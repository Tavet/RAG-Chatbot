{
 "cells": [
  {
   "cell_type": "markdown",
   "id": "006f21bd-afc9-462d-8bc9-09271526e5c3",
   "metadata": {},
   "source": [
    "# Prepare data and load into the vector database"
   ]
  },
  {
   "cell_type": "code",
   "execution_count": 80,
   "id": "1e2ecc3e-e603-44ab-a4e8-e551a484f2e8",
   "metadata": {},
   "outputs": [
    {
     "data": {
      "text/plain": [
       "True"
      ]
     },
     "execution_count": 80,
     "metadata": {},
     "output_type": "execute_result"
    }
   ],
   "source": [
    "from langchain_pinecone import PineconeVectorStore\n",
    "from langchain_openai.embeddings import OpenAIEmbeddings\n",
    "from dotenv import load_dotenv\n",
    "\n",
    "load_dotenv()"
   ]
  },
  {
   "cell_type": "code",
   "execution_count": 85,
   "id": "c9ffa12a-28b2-4988-a7a7-52b72c5fcb94",
   "metadata": {},
   "outputs": [],
   "source": [
    "import pandas as pd\n",
    "\n",
    "df = pd.read_csv('data-1717596851080.csv')\n",
    "def prepare_text(row):\n",
    "    return f\"Event Name: {row['Event Name']}, Start Date: {row['Start Date']}, End Date: {row['End Date']}, \\\n",
    "    City: {row['City']}, Country Code: {row['Country Code']}\"\n",
    "\n",
    "texts = df.apply(prepare_text, axis=1).tolist()\n",
    "event_ids = df['Event Id'].tolist()\n",
    "\n",
    "embeddings = OpenAIEmbeddings(model=\"text-embedding-ada-002\")\n",
    "embedding_vectors = embeddings.embed_documents(texts)"
   ]
  },
  {
   "cell_type": "code",
   "execution_count": 139,
   "id": "9ada0fe2-23be-4107-b129-3c324948c76e",
   "metadata": {},
   "outputs": [],
   "source": [
    "df['Checkin Count'] = df['Checkin Count'].astype(int)\n",
    "df['Bookmark Count'] = df['Bookmark Count'].astype(int)\n",
    "df.fillna(\"NaN\", inplace=True)\n",
    "\n",
    "pinecone_vectors = [\n",
    "    {\n",
    "        'id': str(event_id),\n",
    "        'values': embedding,\n",
    "        'metadata': {\n",
    "            'Event Name': df.iloc[idx]['Event Name'],\n",
    "            'Start Date': df.iloc[idx]['Start Date'],\n",
    "            'End Date': df.iloc[idx]['End Date'],\n",
    "            'City': df.iloc[idx]['City'],\n",
    "            'Country Code': df.iloc[idx]['Country Code'],\n",
    "            'Checkin Count': int(df.iloc[idx]['Checkin Count']),\n",
    "            'Bookmark Count': int(df.iloc[idx]['Bookmark Count']),\n",
    "            'text': prepare_text(df.iloc[idx])\n",
    "        }\n",
    "    }\n",
    "    for idx, (event_id, embedding) in enumerate(zip(event_ids, embedding_vectors))\n",
    "]"
   ]
  },
  {
   "cell_type": "code",
   "execution_count": 141,
   "id": "11e5cd28-c274-448b-9084-ec47a1362e3d",
   "metadata": {},
   "outputs": [],
   "source": [
    "from pinecone import Pinecone\n",
    "import os\n",
    "index_name = \"events-qa-index\"\n",
    "\n",
    "pc = Pinecone(\n",
    "        api_key=os.environ.get(\"PINECONE_API_KEY\")\n",
    "    )\n",
    "index = pc.Index(index_name)"
   ]
  },
  {
   "cell_type": "code",
   "execution_count": 143,
   "id": "e3000d00-7baa-4ff8-b354-337b4c8b4bee",
   "metadata": {},
   "outputs": [],
   "source": [
    "def upload_in_batches(index, vectors, batch_size=100):\n",
    "    for i in range(0, len(vectors), batch_size):\n",
    "        batch = vectors[i:i + batch_size]\n",
    "        index.upsert(vectors=batch)\n",
    "\n",
    "upload_in_batches(index, pinecone_vectors, batch_size=100)"
   ]
  }
 ],
 "metadata": {
  "kernelspec": {
   "display_name": "GenAI",
   "language": "python",
   "name": "genai"
  },
  "language_info": {
   "codemirror_mode": {
    "name": "ipython",
    "version": 3
   },
   "file_extension": ".py",
   "mimetype": "text/x-python",
   "name": "python",
   "nbconvert_exporter": "python",
   "pygments_lexer": "ipython3",
   "version": "3.9.17"
  }
 },
 "nbformat": 4,
 "nbformat_minor": 5
}
